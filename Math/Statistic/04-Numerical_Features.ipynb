{
 "cells": [
  {
   "cell_type": "markdown",
   "metadata": {},
   "source": [
    "# 随机变量的数字特征\n",
    "\n",
    "!!! note \"本文在Immortal-Fates的笔记和肖朦老师课件的基础之上修改；\""
   ]
  },
  {
   "cell_type": "markdown",
   "metadata": {},
   "source": [
    "## 期望 | mean\n",
    "\n",
    "- 离散：$E(X)=\\sum x_kp_k$\n",
    "\n",
    "- 连续：$E(X)=\\int_{-\\infty}^{+\\infty}xf(x)dx$\n",
    "\n",
    "> E(X)必须收敛，无穷级数发散则不存在数学期望\n",
    "\n",
    "\n",
    "- $X\\sim N(\\mu,\\sigma^2)$,标准正态变量$Z=\\frac{X-\\mu}{\\sigma},E(Z)=0,Var(Z)=1$,$E(X)=\\mu,Var(X)=\\sigma^2$\n",
    "\n",
    "### 随机变量函数的数学期望\n",
    "\n",
    "$Y=g(X)$（连续函数）——可推广到多元\n",
    "\n",
    "- 离散：$E(Y)=\\sum g(x_k)p_k$\n",
    "- 连续：$E(Y)=\\int_{-\\infty}^{+\\infty}g(x)f(x)dx$\n",
    "\n",
    "$Z=h(X,Y)$（连续函数）\n",
    "\n",
    "- 离散：$E(Z)=\\sum\\sum h(x_i,y_i)p_{ij}$\n",
    "- 连续：$E(Z)=\\int_{-\\infty}^{+\\infty}\\int_{-\\infty}^{+\\infty}h(x,y)f(x,y)dxdy$\n",
    "\n",
    "> 不必管Y怎样，只用X即可算出\t\n",
    "\n",
    "!!! note \"例: 平均速度和平均时间。假设上学路途共2公里，天气好时（概率0.6），步行上学，速度5公里/小时，天气不好时，骑车上学，速度30公里/小时。求上学平均用时。\"\n",
    "    t = 2/v = g(v) = 2/5 * 0.6 + 2/30 * 0.4 = 4/15 小时\n",
    "    不能先求出v的期望，再求t的期望，因为v和t不是线性关系\n",
    "\n",
    "### 特性\n",
    "\n",
    "- 数学期望有线性性质\n",
    "- 若X，Y相互独立，则$E(XY)=E(X)E(Y)$\n",
    "- 将X分解成数个随机变量之和，然后利用随机变量和的数学期望等于随机变量数学期望之和来求数学期望\n",
    "- 泊松分布的均值和方差都是$\\lambda$"
   ]
  },
  {
   "cell_type": "markdown",
   "metadata": {},
   "source": [
    "## 方差 | variance\n",
    "### 定义\n",
    "$Var(X)=E\\{[X-E(X)]^2\\}$，刻画分散程度\n",
    "- 离散：$Var(X)=\\sum [x_k-E(X)]^2p_k$\n",
    "- 连续：$Var(X)=\\int_{-\\infty}^{+\\infty}[x_k-E(X)]^2f(x)dx$\n",
    "- $Var(X)=E(X^2)-[E(X)]^2$\n",
    "- 标准差（均方差）：$\\sigma(X)=\\sqrt{Var(X)}$\n",
    "\n",
    "### 性质\n",
    "\n",
    "  - $Var(C)=0,Var(CX)=C^2Var(X)$\n",
    "\n",
    "  - $Var(X+Y)=Var(X)+Var(Y)+2E\\{[X-E(X)][Y-E(Y)]\\}$\n",
    "\n",
    "    若X，Y相互独立，则$Var(X+Y)=Var(X)+Var(Y)$\n",
    "\n",
    "  - 若X，Y相互独立：则$Var(aX+bY+c)=a^2Var(X)+b^2Var(Y)$\n",
    "\n",
    "- 独立的n个正态变量的线性组合仍服从正态分布\n",
    "\n",
    "  $C_0+C_1X_1+...\\sim N(C_0+C_1\\mu_1+...,C_1^2\\sigma_1^2+C_2^2\\sigma_2^2+...)$\n"
   ]
  },
  {
   "cell_type": "markdown",
   "metadata": {},
   "source": [
    "```python\n",
    "np.var(x,ddof=1) # 样本方差\n",
    "np.std(x,ddof=1) # 样本标准差\n",
    "```"
   ]
  },
  {
   "cell_type": "code",
   "execution_count": 3,
   "metadata": {},
   "outputs": [
    {
     "name": "stdout",
     "output_type": "stream",
     "text": [
      "5.0 10.0 0.0 -1.22\n",
      "5.0 10.0\n"
     ]
    }
   ],
   "source": [
    "##计算均匀分布的各种数学特征\n",
    "\n",
    "import scipy.stats as st\n",
    "a,b=(0,10)\n",
    "mean, var, skew, kurt = st.randint.stats(a,b+1, moments='mvsk') ## n阶中心矩\n",
    "\n",
    "print(mean, var, skew, kurt)\n",
    "print (st.randint.mean(a,b+1),st.randint.var(a,b+1))"
   ]
  },
  {
   "cell_type": "code",
   "execution_count": 4,
   "metadata": {},
   "outputs": [
    {
     "name": "stdout",
     "output_type": "stream",
     "text": [
      "5.0 4.927\n",
      "10.0 10.155826826826827\n",
      "3.1622776601683795 3.1868208024341165\n"
     ]
    },
    {
     "data": {
      "text/plain": [
       "DescribeResult(nobs=1000, minmax=(np.int64(0), np.int64(10)), mean=np.float64(4.927), variance=np.float64(10.155826826826829), skewness=np.float64(0.04849851798763294), kurtosis=np.float64(-1.2471185326073))"
      ]
     },
     "execution_count": 4,
     "metadata": {},
     "output_type": "execute_result"
    },
    {
     "data": {
      "image/png": "[encoded data removed]",
      "text/plain": [
       "<Figure size 640x480 with 1 Axes>"
      ]
     },
     "metadata": {},
     "output_type": "display_data"
    }
   ],
   "source": [
    "import numpy as np\n",
    "import seaborn as sns\n",
    "import matplotlib.pyplot as plt\n",
    "x=st.randint.rvs(a,b+1,size=1000)\n",
    "sns.histplot(x,discrete=True)\n",
    "plt.title(f'Discrete Uniform Distribution ({a} to {b})')\n",
    "plt.xlabel('Value')\n",
    "plt.ylabel('Frequency')\n",
    "\n",
    "print(st.randint.mean(a,b+1),np.mean(x))\n",
    "print(st.randint.var(a,b+1),np.var(x,ddof=1)) # dof=n-1 为无偏估计 ddof 是 deduce degree of freedom\n",
    "print(st.randint.std(a,b+1),np.std(x,ddof=1))\n",
    "st.describe(x)"
   ]
  },
  {
   "cell_type": "markdown",
   "metadata": {},
   "source": [
    "![image-20231121203607956](https://raw.githubusercontent.com/Immortal-Fates/image_host/main/blog/image-20231121203607956.png)"
   ]
  },
  {
   "cell_type": "markdown",
   "metadata": {},
   "source": [
    "## 协方差 | covariance\n",
    "\n",
    "协方差度量了随机变量之间的线性关系。\n",
    "\n",
    "$$\n",
    "\\operatorname{cov}(X, Y) = \\mathbb{E}[(X - \\mathbb{E}[X])(Y - \\mathbb{E}[Y])]\n",
    "$$\n",
    "\n",
    "- $Cov(X,Y)=E(XY)-E(X)E(Y)$\n",
    "- 有线性性质（把Cov想象成内积）\n",
    "- $Var(X+Y) = Var(X) + Var(Y) +2Cov(X,Y)$\n",
    "\n",
    "协方差的性质：\n",
    "\n",
    "1. $Cov(X, Y) = Cov(Y, X)$\n",
    "2. 方差是协方差的特例：$Cov(X, X) = \\text{Var}(X)$\n",
    "3. $Cov(aX, bY) = ab \\cdot Cov(X, Y)$，其中 $a, b$ 为两个实数\n",
    "4. $Cov(X_1 + X_2, Y) = Cov(X_1, Y) + Cov(X_2, Y)$\n",
    "5. 当 $\\text{Var}(X) \\text{Var}(Y) \\neq 0$ 时，有\n",
    "   \n",
    "$$\n",
    "(Cov(X, Y))^2 \\leq \\text{Var}(X) \\text{Var}(Y)\n",
    "$$\n",
    "\n",
    "   其中等号当且仅当 $X$ 与 $Y$ 之间有严格的线性关系，即存在常数 $a, b$，使 $P(Y = a + bX) = 1$。\n",
    "\n",
    "$$\n",
    "\\mathrm{Cov}(aX+bY,cX+dY)=acD(X)+(ad+bc)\\mathrm{Cov}(X,Y)+bdD(Y)\n",
    "$$\n",
    "\n",
    "\n",
    "$$\n",
    "D(aX+bY+c)=a^2D(X)+2ab\\mathrm{Cov}(X,Y)+b^2D(Y)\n",
    "$$\n",
    "\n",
    "\n",
    "> 正态分布协方差：$\\rho \\sigma_1\\sigma_2$\n",
    "\n",
    "### 协方差矩阵\n",
    "对于一个有 $n$ 个随机变量的随机向量 $\\mathbf{X} = (X_1, X_2, \\ldots, X_n)^T$，其协方差矩阵 $\\mathbf{\\Sigma}$ 是一个 $n \\times n$ 的矩阵，其元素表示各个随机变量之间的协方差。\n",
    "\n",
    "协方差矩阵描述了多个变量之间的协方差关系，矩阵的对角线元素是方差，非对角线元素是协方差\n",
    "\n",
    "$$\n",
    "\\mathbf{\\Sigma} = \\begin{pmatrix}\n",
    "Cov(X_1, X_1) & Cov(X_1, X_2) & \\cdots & Cov(X_1, X_n) \\\\\n",
    "Cov(X_2, X_1) & Cov(X_2, X_2) & \\cdots & Cov(X_2, X_n) \\\\\n",
    "\\vdots & \\vdots & \\ddots & \\vdots \\\\\n",
    "Cov(X_n, X_1) & Cov(X_n, X_2) & \\cdots & Cov(X_n, X_n)\n",
    "\\end{pmatrix}\n",
    "$$\n",
    "\n",
    "对于任意两个随机变量 $X_i$ 和 $X_j$，其协方差 $Cov(X_i, X_j)$ 定义为：\n",
    "\n",
    "$$\n",
    "Cov(X_i, X_j) = E[(X_i - E[X_i])(X_j - E[X_j])]\n",
    "$$\n",
    "\n",
    "其中，$E[X_i]$ 表示随机变量 $X_i$ 的期望值。\n",
    "\n",
    "对于一个随机向量 $\\mathbf{X}$，其协方差矩阵 $\\mathbf{\\Sigma}$ 也可以表示为：\n",
    "\n",
    "$$\n",
    "\\mathbf{\\Sigma} = E[(\\mathbf{X} - E[\\mathbf{X}])(\\mathbf{X} - E[\\mathbf{X}])^T]\n",
    "$$\n",
    "\n",
    "其中，$E[\\mathbf{X}]$ 表示随机向量 $\\mathbf{X}$ 的期望向量，$(\\mathbf{X} - E[\\mathbf{X}])^T$ 表示 $(\\mathbf{X} - E[\\mathbf{X}])$ 的转置。\n",
    "\n"
   ]
  },
  {
   "cell_type": "markdown",
   "metadata": {},
   "source": [
    "## 相关系数\n",
    "**线性关系**紧密程度\n",
    "\n",
    "$\\rho_{XY}=\\frac{Cov(X,Y)}{\\sqrt{Var(X)Var(Y)}}=Cov(\\frac{X-E(X)}{\\sqrt{Var(X)}},\\frac{Y-E(Y)}{\\sqrt{Var(Y)}})=\\rho$\n",
    "\n",
    "- $|\\rho_{XY}|\\le 1$\n",
    "\n",
    "- $|\\rho_{XY}| = 1 \\Leftrightarrow$ 存在常数 $a, b$，使 $P(Y = a + bX) = 1$； 特别的，$\\rho_{XY} = 1$ 时，$b > 0$；$\\rho_{XY} = -1$ 时，$b < 0$\n",
    "\n",
    "- 当$\\rho_{XY}>0$时，称X与Y为正相关\n",
    "\n",
    "- 当$\\rho_{XY}<0$时，称X与Y为负相关\n",
    "\n",
    "- 当$\\rho_{XY}=0$时，称X与Y为不相关或零相关\n",
    "\n",
    "\n",
    "随机变量 $X$ 与 $Y$ 不相关，即 $\\rho_{XY} = 0$ 等价条件有：\n",
    "\n",
    "1. $\\text{Cov}(X, Y) = 0$\n",
    "2. $E(XY) = E(X)E(Y)$\n",
    "3. $\\text{Var}(X + Y) = \\text{Var}(X) + \\text{Var}(Y)$\n",
    "\n",
    "从而可知，当 $X$ 与 $Y$ 相互独立 $\\Rightarrow X$ 与 $Y$ 一定不相关；反之，若 $X$ 与 $Y$ 不相关，$X$ 与 $Y$ 却不一定相互独立。\n",
    "\n",
    "\n",
    "> 对于二元正态变量（X，Y）来说，X和Y不相关等价于X与Y相互独立\n",
    "> 注意变换，避免硬算"
   ]
  },
  {
   "cell_type": "markdown",
   "metadata": {},
   "source": [
    "## 其他数字特征\n",
    "\n",
    "### skewness | 偏度\n",
    "\n",
    "### kurtosis | 峰度\n",
    "\n",
    "### 矩\n",
    "\n",
    "### 分位数\n",
    "\n",
    "$P\\{X>x_\\alpha\\}=\\alpha$的实数$x_\\alpha$为X的上$\\alpha$分位数\n",
    "\n",
    "\n",
    "\n",
    "- n元随机变量X的数学期望（向量）——每个分量都是自己的数学期望\n",
    "\n",
    "\n",
    "### n元正态变量的性质：\n",
    "- ![image-20231128231151737](https://raw.githubusercontent.com/Immortal-Fates/image_host/main/blog/image-20231128231151737.png)\n",
    "- 正态变量的线性变换不变性\n",
    "- 服从n元正态分布，协方差矩阵为对角矩阵——变量相互独立——变量两两不相关\n",
    "\n",
    "- n元正态分布$\\sim N(a,B),B$就是协方差矩阵"
   ]
  }
 ],
 "metadata": {
  "kernelspec": {
   "display_name": "notebook",
   "language": "python",
   "name": "python3"
  },
  "language_info": {
   "codemirror_mode": {
    "name": "ipython",
    "version": 3
   },
   "file_extension": ".py",
   "mimetype": "text/x-python",
   "name": "python",
   "nbconvert_exporter": "python",
   "pygments_lexer": "ipython3",
   "version": "3.10.16"
  }
 },
 "nbformat": 4,
 "nbformat_minor": 2
}
