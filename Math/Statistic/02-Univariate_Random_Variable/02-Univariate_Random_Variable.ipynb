{
 "cells": [
  {
   "cell_type": "markdown",
   "metadata": {},
   "source": [
    "# 一维随机变量"
   ]
  },
  {
   "cell_type": "markdown",
   "metadata": {},
   "source": [
    "常见分布总结\n",
    "\n",
    "\n",
    "| 分布 | 名称 | 概率密度函数/概率质量函数 | 期望 | 方差 | 代码 | 代码参数 | 特点 |\n",
    "| --- | --- | --- | --- | --- | --- | --- | --- |\n",
    "| **伯努利分布** | $X \\sim Bern(p)$ | $P(X=k) = p^k(1-p)^{1-k}$，其中 $k \\in \\{0, 1\\}$ | $E(X) = p$ | $Var(X) = p(1-p)$ | `scipy.stats.bernoulli` | `p`: 成功的概率 | 只有两个可能的取值（0或1），用于描述一次试验中成功的概率 |\n",
    "| **二项分布** | $X \\sim B(n, p)$ | $P(X=k) = \\binom{n}{k}p^k(1-p)^{n-k}$，其中 $k \\in \\{0, 1, ..., n\\}$ | $E(X) = np$ | $Var(X) = np(1-p)$ | `scipy.stats.binom` | `n`: 试验次数，`p`: 成功的概率 | 描述在固定次数的独立试验中成功的次数，每次试验成功的概率相同 |\n",
    "| **几何分布** | $X \\sim Geo(p)$ | $P(X=k) = p(1-p)^{k-1}$，其中 $k \\in \\{1, 2, ...\\}$ | $E(X) = \\frac{1}{p}$ | $Var(X) = \\frac{1-p}{p^2}$ | `scipy.stats.geom` | `p`: 成功的概率 | 描述在一系列独立试验中，第一次成功所需的试验次数 |\n",
    "| **泊松分布** | $X \\sim\\Pi(\\lambda)$ | $P(X=k) = \\frac{e^{-\\lambda}\\lambda^k}{k!}$，其中 $k \\in \\{0, 1, ...\\}$ | $E(X) = \\lambda$ | $Var(X) = \\lambda$ | `scipy.stats.poisson` | `lam`: 事件的平均发生率 | 描述在固定时间间隔内事件发生的次数，事件的发生是独立的且具有恒定的速率 |\n",
    "| **均匀分布** | $X \\sim U(a, b)$ | $f(x) = \\begin{cases} \\frac{1}{b-a} & \\text{if } a \\leq x \\leq b \\\\ 0 & \\text{otherwise} \\end{cases}$ | $E(X) = \\frac{a+b}{2}$ | $Var(X) = \\frac{(b-a)^2}{12}$ | `scipy.stats.uniform` | `loc`: 下限，`scale`: 范围（上限-下限） | 所有可能的取值在给定范围内具有相同的概率 |\n",
    "| **指数分布** | $X \\sim E(\\lambda)$ | $f(x) = \\lambda e^{-\\lambda x}$，其中 $x \\geq 0$ | $E(X) = \\frac{1}{\\lambda}$ | $Var(X) = \\frac{1}{\\lambda^2}$ | `scipy.stats.expon` | `lam`: 事件的平均发生率 | 描述事件发生的时间间隔，事件的发生是独立的且具有恒定的速率 |\n",
    "| **正态分布** | $X \\sim N(\\mu, \\sigma^2)$ | $f(x) = \\frac{1}{\\sqrt{2\\pi\\sigma^2}}e^{-\\frac{(x-\\mu)^2}{2\\sigma^2}}$ | $E(X) = \\mu$ | $Var(X) = \\sigma^2$ | `scipy.stats.norm` | `loc`: 均值，`scale`: 标准差 | 具有钟形曲线，广泛用于描述自然现象中的随机变量 |\n"
   ]
  },
  {
   "cell_type": "markdown",
   "metadata": {},
   "source": [
    "## 离散随机变量\n",
    "一般使用分布列表示"
   ]
  },
  {
   "cell_type": "markdown",
   "metadata": {},
   "source": []
  },
  {
   "cell_type": "markdown",
   "metadata": {},
   "source": [
    "### 常见离散随机变量"
   ]
  },
  {
   "cell_type": "markdown",
   "metadata": {},
   "source": [
    "#### 伯努利随机变量(bernoulli random variable)\n",
    "伯努利试验是一个有两种结果的简单试验，它的结果是成功或失败，黑或白，开或关，没有中间的立场。\n",
    "\n",
    "- n 重伯努利试验 就是二项分布\n",
    "\n"
   ]
  },
  {
   "cell_type": "code",
   "execution_count": null,
   "metadata": {},
   "outputs": [],
   "source": [
    "import matplotlib.pyplot as plt\n",
    "import scipy.stats as st\n",
    "p=0.3\n",
    "r = st.bernoulli.rvs(p, size=1000)\n",
    "sns.histplot(r,stat='probability')"
   ]
  },
  {
   "cell_type": "markdown",
   "metadata": {},
   "source": [
    "#### 二项随机变量(Binoia random variable)\n",
    "\n",
    "\n",
    "二项分布的参数：n,p, 随机变量k。用 B(n,p)表示"
   ]
  },
  {
   "cell_type": "code",
   "execution_count": null,
   "metadata": {},
   "outputs": [],
   "source": [
    "import numpy as np\n",
    "x=np.random.binomial(10,0.3,1000)\n",
    "y=np.random.binomial(10,0.3,10000)\n",
    "\n",
    "import seaborn as sns\n",
    "import matplotlib.pyplot as plt\n",
    "\n",
    "f, axs = plt.subplots(1,2)\n",
    "sns.histplot(x,discrete=True,ax=axs[0],common_bins=True) # discrete=True表示离散数据\n",
    "sns.histplot(y,discrete=True,ax=axs[1],common_bins=True) # common_bins=True表示两个子图共用一个bin（即x轴的刻度）\n",
    "f.tight_layout() # 用于调整子图之间的间距"
   ]
  },
  {
   "cell_type": "markdown",
   "metadata": {},
   "source": [
    "#### 几何随机变量(Geometric)\n",
    "\n",
    "为什么叫几何分布？\n",
    "几何关系可以简单理解为等比\n",
    "就是因为分布的各项，都是等比数列！\n",
    "就是因为分布的各项，中间项都是前后两项的几何平均数，所以叫几何分布！\n",
    "\n",
    "> 新手保护期，第一次通过的概率较高，之后概率逐渐降低\n",
    "\n",
    "伯努利随机变量得到正面结果的概率p,连续多次实验，直到第k次才得到正面结果\n",
    "\n",
    "$$\n",
    "p(k) = (1-p)^{k-1}p\n",
    "$$\n",
    "\n",
    "[概率论的学习和整理8： 几何分布-CSDN博客](https://blog.csdn.net/xuemanqianshan/article/details/126149038)"
   ]
  },
  {
   "cell_type": "code",
   "execution_count": null,
   "metadata": {},
   "outputs": [],
   "source": [
    "x=np.random.geometric(0.2,1000)\n",
    "sns.histplot(x,discrete=True,stat='probability')"
   ]
  },
  {
   "cell_type": "code",
   "execution_count": null,
   "metadata": {},
   "outputs": [],
   "source": [
    "f, axs2 = plt.subplots(1)\n",
    "sns.histplot(x,discrete=True,stat='probability')\n",
    "sns.ecdfplot(x,ax=axs2)"
   ]
  },
  {
   "cell_type": "code",
   "execution_count": null,
   "metadata": {},
   "outputs": [],
   "source": [
    "import scipy.stats as st\n",
    "\n",
    "st.geom.cdf(5, 0.2) # 第一个参数随机变量本身的值，第二个参数是函数的参数"
   ]
  },
  {
   "cell_type": "markdown",
   "metadata": {},
   "source": [
    "例题：写一个程序成功的概率是p，连写X次直到成功。X的期望值和方差？\n",
    "\n",
    "X符合几何分布\n",
    "\n",
    "\\[ p(X) = (1-p)^{x-1}p\\]\n",
    "\n",
    "\\[ E(X) = \\sum_x x(1-p)^{x-1}p \\]\n",
    "\n",
    "总期望值:\n",
    "\n",
    "$$\n",
    "\\begin{align*}\n",
    "    E(X) &= p(x=1)E(X|x=1)+ p(x;1)E(X|x;1)\\\\\n",
    "    &= p\\cdot 1 + (1-p)(E(X)+1)\\\\\n",
    "    &= 1/p\n",
    "\\end{align*}\n",
    "$$\n",
    "\n",
    "方差：\n",
    "\n",
    "$$\n",
    "\\begin{align*}\n",
    "    E(X^2) &= p(x=1)E(X^2|x=1)+ p(x;1)E(X^2|x;1)\\\\\n",
    "    &= p\\cdot 1 + (1-p)(E(X+1)^2)\\\\\n",
    "    &= p+(1-p)(E(X^2)+2E(X)+1) \\\\\n",
    "    &= \\frac{2}{p^2}-\\frac{1}{p}\\\\\n",
    "    var(X) &= E(X^2)-E(X)^2 = \\frac{1-p}{p^2}\n",
    "\\end{align*}\n",
    "$$"
   ]
  },
  {
   "cell_type": "code",
   "execution_count": null,
   "metadata": {},
   "outputs": [],
   "source": [
    "import scipy.stats as st\n",
    "p=0.2\n",
    "mean, var, skew, kurt = st.geom.stats(p, moments='mvsk')\n",
    "print(mean, var, skew, kurt)\n",
    "print(1/p,(1-p)/p**2)"
   ]
  },
  {
   "cell_type": "code",
   "execution_count": null,
   "metadata": {},
   "outputs": [],
   "source": [
    "x = np.random.geometric(0.5,1000)\n",
    "sns.histplot(x,discrete=True,stat='probability')"
   ]
  },
  {
   "cell_type": "markdown",
   "metadata": {},
   "source": [
    "#### 泊松随机变量(Poisson)\n",
    "若二项分布中的n很大，p很小，$\\lambda = np$，二项分布逼近泊松分布\n",
    "\n",
    "二项分布和泊松分布可以互相转化的条件：n很大，p很小，$\\lambda = np$ 适中\n",
    "\n",
    "- 当$\\lambda$较小时候，泊松分布下降趋势\n",
    "- 当$\\lambda$较大时候，泊松分布比较像高斯分布"
   ]
  },
  {
   "cell_type": "code",
   "execution_count": null,
   "metadata": {},
   "outputs": [],
   "source": [
    "import numpy as np\n",
    "import seaborn as sns\n",
    "\n",
    "x=np.random.poisson(10,10000)\n",
    "y=np.random.binomial(1000,0.01,10000)\n",
    "\n",
    "sns.histplot([x,y],discrete=True,stat='probability') # 这里将[x,y]打包，可以省去一些代码"
   ]
  },
  {
   "cell_type": "markdown",
   "metadata": {},
   "source": [
    "## 连续随机变量\n",
    "\n",
    "\n",
    "rvs：产生服从指定分布的随机数\n",
    "pdf：概率密度函数\n",
    "cdf：累计分布函数\n",
    "sf：残存函数（1-CDF）\n",
    "ppf：分位点函数（CDF的逆）\n",
    "isf：逆残存函数（sf的逆）\n",
    "fit：对一组随机取样进行拟合，最大似然估计方法找出最适合取样数据的概率密度函数系数。\n",
    "*离散分布的简单方法大多数与连续分布很类似，但是pdf被更换为密度函数pmf。\n",
    "\n",
    "beta：beta分布\n",
    "f：F分布\n",
    "gamma：gam分布\n",
    "poisson：泊松分布\n",
    "hypergeom：超几何分布\n",
    "lognorm：对数正态分布\n",
    "binom：二项分布\n",
    "uniform：均匀分布\n",
    "chi2：卡方分布\n",
    "cauchy：柯西分布\n",
    "laplace：拉普拉斯分布\n",
    "rayleigh：瑞利分布\n",
    "t：学生T分布\n",
    "norm：正态分布\n",
    "expon：指数分布"
   ]
  },
  {
   "cell_type": "markdown",
   "metadata": {},
   "source": [
    "### 均匀分布\n",
    "\n",
    "```python\n",
    "st.uniform(2,5) # 表示的是起点为2，终点为7，长度为5的均匀分布\n",
    "```\n"
   ]
  },
  {
   "cell_type": "code",
   "execution_count": null,
   "metadata": {},
   "outputs": [],
   "source": [
    "import scipy.stats as st\n",
    "import seaborn as sns\n",
    "import numpy as np\n",
    "import matplotlib.pyplot as plt\n",
    "\n",
    "\n",
    "x=np.arange(2,7,0.1)\n",
    "sns.histplot(y,bins=x,stat='density')\n",
    "f=st.uniform(2,5).pdf(x)## 注意参数值的意义\n",
    "plt.plot(x, f,color='r') "
   ]
  },
  {
   "cell_type": "markdown",
   "metadata": {},
   "source": [
    "### 正态分布\n",
    "\n",
    "$$\n",
    "f(x) = \\frac{1}{\\sqrt{2\\pi}\\sigma}e^{-\\frac{(x-\\mu)^2}{2\\sigma^2}}\n",
    "$$\n",
    "\n",
    "cdf: $\\Phi(x)$\n",
    "\n",
    "$$\n",
    "\\Phi(-x) = 1- \\Phi(x)\n",
    "$$"
   ]
  },
  {
   "cell_type": "code",
   "execution_count": null,
   "metadata": {},
   "outputs": [],
   "source": [
    "import scipy.stats as st\n",
    "import numpy as np\n",
    "import seaborn as sns\n",
    "import matplotlib.pyplot as plt\n",
    "\n",
    "\n",
    "x=st.norm.rvs(0,3,1000)\n",
    "y=np.random.normal(0,3,1000)\n",
    "\n",
    "ax=sns.histplot([x,y])\n",
    "\n",
    "### 修改图例\n",
    "ax=sns.histplot([x,y])\n",
    "ax.legend(labels=['scipy','numpy'])\n",
    "plt.tight_layout()\n",
    "plt.show()"
   ]
  },
  {
   "cell_type": "code",
   "execution_count": null,
   "metadata": {},
   "outputs": [],
   "source": [
    "### 修改图例方法2\n",
    "bin=plt.hist(x, color='C0',alpha=0.5,bins='auto') \n",
    "plt.hist(y, bins=bin[1],color='C1',alpha=0.5) \n",
    "plt.legend(labels=['scipy','numpy'])"
   ]
  },
  {
   "cell_type": "code",
   "execution_count": null,
   "metadata": {},
   "outputs": [],
   "source": [
    "bins = np.histogram_bin_edges(x, bins='auto')\n",
    "#print(bins)\n",
    "ax=sns.histplot([x,y],bins=bins,stat='density',common_norm=False)\n",
    "\n",
    "f = st.norm.pdf(bins, 0, 3)\n",
    "plt.plot(bins, f,color='r') "
   ]
  },
  {
   "cell_type": "code",
   "execution_count": null,
   "metadata": {},
   "outputs": [],
   "source": [
    "fig,ax = plt.subplots(2,1)\n",
    "m=0;sigma=3\n",
    "\n",
    "f = st.norm.pdf(bins,m,sigma)\n",
    "c = st.norm.cdf(bins,m,sigma)\n",
    "ppf = st.norm.ppf(c, m,sigma)\n",
    "\n",
    "ax[0].plot(bins, f,color='r') \n",
    "ax2 = ax[0].twinx() ##左右两边的y轴不同\n",
    "ax2.plot(bins, c) \n",
    "ax[0].fill_between(bins,f,where=(bins<-3.),color='C0',alpha=0.3)\n",
    "ax[1].plot(c,bins)\n",
    "ax[1].plot(c,ppf)"
   ]
  },
  {
   "cell_type": "code",
   "execution_count": null,
   "metadata": {},
   "outputs": [],
   "source": [
    "## Confidence Interval，置信区间\n",
    "bins=np.arange(-10,10,0.1)\n",
    "fig,ax = plt.subplots(1)\n",
    "m=0;sigma=3\n",
    "\n",
    "f = st.norm.pdf(bins,m,sigma)\n",
    "\n",
    "ax.plot(bins, f,color='r') \n",
    "ax.fill_between(bins,f,where=(abs(bins)<sigma),color='C0',alpha=0.3)\n",
    "#ax.fill_between(bins,f,where=(abs(bins)<2*sigma),color='C1',alpha=0.3)"
   ]
  },
  {
   "cell_type": "code",
   "execution_count": null,
   "metadata": {},
   "outputs": [],
   "source": [
    "# 生成1σ-6σ的区间 \n",
    "# 1σ约为68 2σ约为95 3σ约为99.7\n",
    "a=\"sigma\"\n",
    "for i in range(1,6):\n",
    "    print (i, a,\"CL: \",1-2*st.norm.cdf(-sigma*i,m,sigma))"
   ]
  },
  {
   "cell_type": "markdown",
   "metadata": {},
   "source": [
    "### 指数分布\n",
    "\n",
    "$$\n",
    "\\begin{equation}\n",
    "f(x)= \n",
    "\\begin{cases}\n",
    "\\lambda e^{-\\lambda x} & x>0 \\\\\n",
    "0 & x\\leq0 \\\\\n",
    "\\end{cases}\n",
    "\\end{equation}\n",
    "$$\n",
    "\n",
    "单位时间事件发生的次数平均值为$\\lambda$,时长$x$之内发生的总次数$\\lambda x$. 实际观察到的次数符合泊松分布\n",
    "\n",
    "$$\n",
    "g(n) = (\\lambda x)^n\\frac{e^{-\\lambda x}}{(n)!}\n",
    "$$\n",
    "\n",
    "```\n",
    "st.expon.rvs(0,0.2,1000)\n",
    "```\n",
    "\n",
    "其中第一个参数是平移距离，0.2是$\\frac{1}{\\lambda}$，1000是样本数"
   ]
  },
  {
   "cell_type": "code",
   "execution_count": null,
   "metadata": {},
   "outputs": [],
   "source": [
    "x=st.expon.rvs(0,0.2,1000)\n",
    "\n",
    "bins = np.histogram_bin_edges(x, bins='auto') #让numpy优化binning，传递给seaborn\n",
    "ax=sns.histplot(x,bins=bins,stat='density')\n",
    "\n",
    "f = st.expon.pdf(bins, 0,0.2)\n",
    "plt.plot(bins, f,color='r') "
   ]
  },
  {
   "cell_type": "code",
   "execution_count": null,
   "metadata": {},
   "outputs": [],
   "source": [
    "print(st.expon.median(0,0.2),st.expon.mean(0,0.2))"
   ]
  },
  {
   "cell_type": "code",
   "execution_count": null,
   "metadata": {},
   "outputs": [],
   "source": [
    "fig,ax = plt.subplots(1)\n",
    "b = np.linspace(st.expon.ppf(0.01, 0,0.2),\n",
    "                st.expon.ppf(0.99, 0,0.2), 5000) # ppf返回cdf值为0.01和0.99时所对应的x值\n",
    "print(\"b=\",b)\n",
    "f = st.expon.pdf(b,0,0.2)\n",
    "ax.plot(b, f,color='r')\n",
    "c = st.expon.cdf(b, 0,0.2)\n",
    "print(\"c=\",c)\n",
    "ax.fill_between(b,f,where=(c>0.5),color='C0',alpha=0.3)\n",
    "print(\"median value=\",b[c>0.5][0]) # b[c>0.5]"
   ]
  },
  {
   "cell_type": "markdown",
   "metadata": {},
   "source": []
  }
 ],
 "metadata": {
  "kernelspec": {
   "display_name": "notebook",
   "language": "python",
   "name": "python3"
  },
  "language_info": {
   "codemirror_mode": {
    "name": "ipython",
    "version": 3
   },
   "file_extension": ".py",
   "mimetype": "text/x-python",
   "name": "python",
   "nbconvert_exporter": "python",
   "pygments_lexer": "ipython3",
   "version": "3.12.4"
  }
 },
 "nbformat": 4,
 "nbformat_minor": 2
}
