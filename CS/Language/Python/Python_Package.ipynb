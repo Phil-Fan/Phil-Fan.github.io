{
 "cells": [
  {
   "cell_type": "markdown",
   "metadata": {},
   "source": [
    "# Python Packages"
   ]
  },
  {
   "cell_type": "markdown",
   "metadata": {},
   "source": [
    "# numpy"
   ]
  },
  {
   "cell_type": "markdown",
   "metadata": {},
   "source": [
    "## 随机数生成"
   ]
  },
  {
   "cell_type": "code",
   "execution_count": 58,
   "metadata": {},
   "outputs": [
    {
     "name": "stdout",
     "output_type": "stream",
     "text": [
      "[2 3 4 5]\n",
      "[2 4 6 8]\n",
      "10\n"
     ]
    }
   ],
   "source": [
    "#对纯数字的list进行数学运算，用array\n",
    "import numpy as np\n",
    "a = [1,2,3,4]\n",
    "d=np.array(a)\n",
    "\n",
    "print(d+1)\n",
    "print(d*2)\n",
    "print(sum(d))"
   ]
  },
  {
   "cell_type": "markdown",
   "metadata": {},
   "source": [
    "生成数组可以用\n",
    "- `np.random.randint(start, end, (shape))`\n",
    "- `np.random.randn(shape)`生成正态分布的随机数\n",
    "- `np.arange(start, end, step)`生成等差数列\n",
    "- `np.repeat()`重复数组\n",
    "- `np.random.seed(23)` 设置随机数种子"
   ]
  },
  {
   "cell_type": "markdown",
   "metadata": {},
   "source": [
    "!!! note \"H(head)&T(Tail) 代表硬币的正反面\""
   ]
  },
  {
   "cell_type": "code",
   "execution_count": 59,
   "metadata": {},
   "outputs": [
    {
     "name": "stdout",
     "output_type": "stream",
     "text": [
      "[[4 4 1 ... 3 1 3]\n",
      " [2 4 1 ... 4 1 1]]\n"
     ]
    }
   ],
   "source": [
    "# 连续两次掷有4个面的骰子\n",
    "sample=1000\n",
    "x = np.random.randint(1,5,size=(2,sample))\n",
    "print(x)"
   ]
  },
  {
   "cell_type": "code",
   "execution_count": 60,
   "metadata": {},
   "outputs": [
    {
     "data": {
      "text/plain": [
       "array([0.86363799, 0.20042108, 0.51633192, 0.86663068, 0.9419013 ])"
      ]
     },
     "execution_count": 60,
     "metadata": {},
     "output_type": "execute_result"
    }
   ],
   "source": [
    "y = np.random.rand(5) # 默认范围是0到1\n",
    "y\n"
   ]
  },
  {
   "cell_type": "markdown",
   "metadata": {},
   "source": [
    "与`shuffle`不同的是，`permutation`不会改变原数组"
   ]
  },
  {
   "cell_type": "code",
   "execution_count": 61,
   "metadata": {},
   "outputs": [
    {
     "data": {
      "text/plain": [
       "array([0.86363799, 0.20042108, 0.9419013 , 0.51633192, 0.86663068])"
      ]
     },
     "execution_count": 61,
     "metadata": {},
     "output_type": "execute_result"
    }
   ],
   "source": [
    "np.random.shuffle(y) # 打乱顺序\n",
    "y\n",
    "np.random.permutation(y) # 打乱顺序,\n",
    "y"
   ]
  },
  {
   "cell_type": "code",
   "execution_count": 62,
   "metadata": {},
   "outputs": [
    {
     "data": {
      "text/plain": [
       "array([[3, 4, 5],\n",
       "       [0, 1, 2],\n",
       "       [6, 7, 8]])"
      ]
     },
     "execution_count": 62,
     "metadata": {},
     "output_type": "execute_result"
    }
   ],
   "source": [
    "import numpy as np\n",
    "arr = np.arange(9).reshape((3, 3))\n",
    "np.random.permutation(arr) # 只对第一维度进行打乱"
   ]
  },
  {
   "cell_type": "markdown",
   "metadata": {},
   "source": [
    "## 矩阵"
   ]
  },
  {
   "cell_type": "markdown",
   "metadata": {},
   "source": [
    "### 生成矩阵\n",
    "\n",
    "```python\n",
    "import numpy as np\n",
    "np.array([1,2])\n",
    "np.array([[1,2],[3,4]]) ## 注意这里的两个方括号\n",
    "\n",
    "\n",
    "np.ones(4)  ## 全1矩阵       \n",
    "np.zeros(4)  ## 全0矩阵\n",
    "np.ones((2,4)) ## 注意这里的两层括号\n",
    "\n",
    "np.eye(5) ## 单位阵\n",
    "\n",
    "np.diag((1,2,4)) ## 对角阵\n",
    "\n",
    "np.reshape()\n",
    "\n",
    "np.empty()\n",
    "```\n",
    "\n",
    "\n",
    "```python\n",
    "np.random.randint(start,end,(shape))\n",
    "np.diag(np.random.randint(10,size=3)) # 随机对角阵\n",
    "np.array(np.random.randint(10,size=(3,4)))\n",
    "```\n",
    "\n",
    "```python\n",
    "#数组的修改\n",
    "res[:, j, :, :] 切片\n",
    "```\n"
   ]
  },
  {
   "cell_type": "code",
   "execution_count": 63,
   "metadata": {},
   "outputs": [
    {
     "name": "stdout",
     "output_type": "stream",
     "text": [
      "[[7 8 1 6]\n",
      " [8 6 1 1]\n",
      " [8 6 2 4]]\n"
     ]
    },
    {
     "data": {
      "text/plain": [
       "array([1, 6])"
      ]
     },
     "execution_count": 63,
     "metadata": {},
     "output_type": "execute_result"
    }
   ],
   "source": [
    "import numpy as np\n",
    "a=np.array(np.random.randint(10,size=(3,4)))\n",
    "print(a)\n",
    "a[1,::-2]  # 切片的应用"
   ]
  },
  {
   "cell_type": "markdown",
   "metadata": {},
   "source": [
    "### 矩阵运算\n",
    "\n",
    "`@` 做矩阵乘法\n",
    "\n",
    "`*` 做点乘 -> 对应相乘\n",
    "\n",
    "`matrix.T ` 转置\n",
    "\n",
    "\n",
    "```py\n",
    "np.maximum(x, 0)\n",
    "np.exp(-x)\n",
    "```\n",
    "\n",
    "\n",
    "\n",
    "\n",
    "\n",
    "array在维度是1的时候(1行向量or1列向量)，会自动转置，所以容易出现神奇错误，最好初始化的时候规定好\n",
    "\n",
    "```py\n",
    "np.lib.stride_tricks.as_strided(source_list, shape=shape, strides=stride)\n",
    "# stride 是数组在各个维度所对应的距离A\n",
    "np.tensordot(A, B, [(1, 4, 5), (1,2, 3)])\n",
    "# \n",
    "```"
   ]
  },
  {
   "cell_type": "markdown",
   "metadata": {},
   "source": [
    "### 广播机制\n",
    "- 最神奇的机制：广播机制（还没有完全学会）\n"
   ]
  },
  {
   "cell_type": "markdown",
   "metadata": {},
   "source": [
    "### 方程求解"
   ]
  },
  {
   "cell_type": "code",
   "execution_count": 64,
   "metadata": {},
   "outputs": [
    {
     "data": {
      "text/plain": [
       "array([[-0.55357754],\n",
       "       [ 2.12256077],\n",
       "       [-0.66130321],\n",
       "       [ 0.54273651]])"
      ]
     },
     "execution_count": 64,
     "metadata": {},
     "output_type": "execute_result"
    }
   ],
   "source": [
    "b = np.array(np.random.randint(20,size=(4,1)))\n",
    "A = np.array(np.random.randint(20,size=(4,4)))\n",
    "np.linalg.inv(A)\n",
    "\n",
    "# 求解 Ax = b\n",
    "np.linalg.solve(A,b)\n",
    "np.linalg.inv(A)@b ## 更慢"
   ]
  },
  {
   "cell_type": "markdown",
   "metadata": {},
   "source": [
    "### 矩阵分解"
   ]
  },
  {
   "cell_type": "markdown",
   "metadata": {},
   "source": [
    "### 时间测量\n",
    "\n",
    "\n",
    "在命令前面加上 `%timeit` 可以获得多次运行命令的时间"
   ]
  },
  {
   "cell_type": "markdown",
   "metadata": {},
   "source": [
    "### meshgrid 生成网格坐标\n",
    "\n",
    "```python\n",
    "X, Y = np.meshgrid(x, y)\n",
    "```\n",
    "\n",
    "- `*xi`：一个或多个一维数组，表示坐标轴上的点。如果只传入一个数组，则默认为 x 轴上的点，并会生成一个与该数组形状相同的 y 轴数组。\n",
    "- `indexing`：可选参数，用于指定网格的索引方式。默认为 'xy'，表示使用笛卡尔坐标系；也可以设置为 'ij'，表示使用矩阵坐标系。\n",
    "- `sparse`：可选参数，用于指定是否生成稀疏网格。默认为 False，表示生成密集网格；如果设置为 True，则只生成网格的行和列索引，而不生成完整的网格。\n",
    "- [Python-Numpy模块Meshgrid函数 - 知乎](https://zhuanlan.zhihu.com/p/33579211)"
   ]
  },
  {
   "cell_type": "code",
   "execution_count": 65,
   "metadata": {},
   "outputs": [],
   "source": [
    "import numpy as np\n",
    "\n",
    "# 生成二维网格\n",
    "x = np.linspace(-5, 5, 100)  # x 轴上的点\n",
    "y = np.linspace(-5, 5, 100)  # y 轴上的点\n",
    "X, Y = np.meshgrid(x, y)"
   ]
  },
  {
   "cell_type": "code",
   "execution_count": 66,
   "metadata": {},
   "outputs": [
    {
     "name": "stdout",
     "output_type": "stream",
     "text": [
      "[['a' 'a' 'a']\n",
      " ['b' 'b' 'b']\n",
      " ['1' '2' '3']\n",
      " ['1' '2' '3']] \n",
      " Dimension:  (4, 3)\n",
      "[['a' 'a' 'a' '1' '2' '3']\n",
      " ['b' 'b' 'b' '1' '2' '3']] \n",
      " Dimension:  (2, 6)\n",
      "[[['a' '1']\n",
      "  ['a' '2']\n",
      "  ['a' '3']]\n",
      "\n",
      " [['b' '1']\n",
      "  ['b' '2']\n",
      "  ['b' '3']]] \n",
      " Dimension:  (2, 3, 2)\n"
     ]
    }
   ],
   "source": [
    "import numpy as np\n",
    "a=[['a','a','a'],['b','b','b']] ## 2个成员\n",
    "b=[[1,2,3],[1,2,3]] ## 3个成员\n",
    "## 纵向展开\n",
    "print (np.vstack([a,b]),'\\n Dimension: ',np.vstack([a,b]).shape)\n",
    "## 横向展开\n",
    "print(np.hstack([a,b]),'\\n Dimension: ',np.hstack([a,b]).shape)\n",
    "## 网格展开\n",
    "print(np.dstack([a,b]),'\\n Dimension: ',np.dstack([a,b]).shape)"
   ]
  },
  {
   "cell_type": "markdown",
   "metadata": {},
   "source": [
    "### 图像处理"
   ]
  },
  {
   "cell_type": "markdown",
   "metadata": {},
   "source": [
    "- 把图片按照卷积核进行分割成多维的数组\n"
   ]
  },
  {
   "cell_type": "code",
   "execution_count": 67,
   "metadata": {},
   "outputs": [],
   "source": [
    "def get_feature_map(self, X, kh, kw, s):#向量化处理\n",
    "    '''\n",
    "    :param X:\n",
    "    :param kh: height of kernel\n",
    "    :param kw: width of kernel\n",
    "    :param s: stride\n",
    "    :return: 按k*k大小分割好的数组\n",
    "    '''\n",
    "    N, C, H, W = X.shape\n",
    "    oh = (H - kh) // s + 1\n",
    "    ow = (W - kw) // s + 1\n",
    "    shape = (N, C, oh, ow, kh, kw)  #切割形状\n",
    "    stride = (*X.strides[:2], X.strides[-2] * s, X.strides[-1] * s, *X.strides[-2:])#切割方式\n",
    "    A = np.lib.stride_tricks.as_strided(X, shape=shape, strides=stride)\n",
    "    return A"
   ]
  },
  {
   "cell_type": "markdown",
   "metadata": {},
   "source": [
    "# pandas"
   ]
  },
  {
   "cell_type": "markdown",
   "metadata": {},
   "source": [
    "## Dataframe\n",
    "- 表格\n",
    "- 读入和写出\n",
    "- 处理csv,xls,json,sql"
   ]
  },
  {
   "cell_type": "markdown",
   "metadata": {},
   "source": [
    "### 创建表格\n",
    "\n",
    "- 从字典创建\n",
    "- zip创建"
   ]
  },
  {
   "cell_type": "code",
   "execution_count": 68,
   "metadata": {},
   "outputs": [
    {
     "data": {
      "text/html": [
       "<div>\n",
       "<style scoped>\n",
       "    .dataframe tbody tr th:only-of-type {\n",
       "        vertical-align: middle;\n",
       "    }\n",
       "\n",
       "    .dataframe tbody tr th {\n",
       "        vertical-align: top;\n",
       "    }\n",
       "\n",
       "    .dataframe thead th {\n",
       "        text-align: right;\n",
       "    }\n",
       "</style>\n",
       "<table border=\"1\" class=\"dataframe\">\n",
       "  <thead>\n",
       "    <tr style=\"text-align: right;\">\n",
       "      <th></th>\n",
       "      <th>ID</th>\n",
       "      <th>Age</th>\n",
       "      <th>Name</th>\n",
       "    </tr>\n",
       "  </thead>\n",
       "  <tbody>\n",
       "    <tr>\n",
       "      <th>0</th>\n",
       "      <td>1</td>\n",
       "      <td>21</td>\n",
       "      <td>Adam</td>\n",
       "    </tr>\n",
       "    <tr>\n",
       "      <th>1</th>\n",
       "      <td>2</td>\n",
       "      <td>18</td>\n",
       "      <td>Bob</td>\n",
       "    </tr>\n",
       "    <tr>\n",
       "      <th>2</th>\n",
       "      <td>3</td>\n",
       "      <td>22</td>\n",
       "      <td>Cinda</td>\n",
       "    </tr>\n",
       "    <tr>\n",
       "      <th>3</th>\n",
       "      <td>4</td>\n",
       "      <td>19</td>\n",
       "      <td>David</td>\n",
       "    </tr>\n",
       "  </tbody>\n",
       "</table>\n",
       "</div>"
      ],
      "text/plain": [
       "   ID  Age   Name\n",
       "0   1   21   Adam\n",
       "1   2   18    Bob\n",
       "2   3   22  Cinda\n",
       "3   4   19  David"
      ]
     },
     "execution_count": 68,
     "metadata": {},
     "output_type": "execute_result"
    }
   ],
   "source": [
    "import pandas as pd\n",
    "pd.options.mode.chained_assignment = None # 防止出现SettingWithCopyWarning\n",
    "l1=[1,2,3,4]\n",
    "l2=[21,18,22,19]\n",
    "l3=['Adam','Bob','Cinda','David']\n",
    "\n",
    "dict3={'ID':l1,'Age':l2,'Name':l3}\n",
    "df = pd.DataFrame(dict3)\n",
    "df"
   ]
  },
  {
   "cell_type": "code",
   "execution_count": 69,
   "metadata": {},
   "outputs": [
    {
     "data": {
      "text/html": [
       "<div>\n",
       "<style scoped>\n",
       "    .dataframe tbody tr th:only-of-type {\n",
       "        vertical-align: middle;\n",
       "    }\n",
       "\n",
       "    .dataframe tbody tr th {\n",
       "        vertical-align: top;\n",
       "    }\n",
       "\n",
       "    .dataframe thead th {\n",
       "        text-align: right;\n",
       "    }\n",
       "</style>\n",
       "<table border=\"1\" class=\"dataframe\">\n",
       "  <thead>\n",
       "    <tr style=\"text-align: right;\">\n",
       "      <th></th>\n",
       "      <th>ID</th>\n",
       "      <th>Age</th>\n",
       "      <th>Name</th>\n",
       "    </tr>\n",
       "  </thead>\n",
       "  <tbody>\n",
       "    <tr>\n",
       "      <th>0</th>\n",
       "      <td>1</td>\n",
       "      <td>21</td>\n",
       "      <td>Adam</td>\n",
       "    </tr>\n",
       "    <tr>\n",
       "      <th>1</th>\n",
       "      <td>2</td>\n",
       "      <td>18</td>\n",
       "      <td>Bob</td>\n",
       "    </tr>\n",
       "    <tr>\n",
       "      <th>2</th>\n",
       "      <td>3</td>\n",
       "      <td>22</td>\n",
       "      <td>Cinda</td>\n",
       "    </tr>\n",
       "    <tr>\n",
       "      <th>3</th>\n",
       "      <td>4</td>\n",
       "      <td>19</td>\n",
       "      <td>David</td>\n",
       "    </tr>\n",
       "  </tbody>\n",
       "</table>\n",
       "</div>"
      ],
      "text/plain": [
       "   ID  Age   Name\n",
       "0   1   21   Adam\n",
       "1   2   18    Bob\n",
       "2   3   22  Cinda\n",
       "3   4   19  David"
      ]
     },
     "execution_count": 69,
     "metadata": {},
     "output_type": "execute_result"
    }
   ],
   "source": [
    "# 简化写法\n",
    "df = pd.DataFrame(list(zip(l1, l2,l3)),\n",
    "               columns =['ID', 'Age', 'Name'])\n",
    "df"
   ]
  },
  {
   "cell_type": "markdown",
   "metadata": {},
   "source": [
    "### 读入读出\n",
    "\n",
    "```python\n",
    "hang = pd.read_csv(\"hang.csv\",delimiter=\";\", quotechar='\"')\n",
    "\n",
    "hang.head(5) # 前5行\n",
    "hang.tail(5) # 后5行\n",
    "\n",
    "hang.dtypes # 所有字段的格式\n",
    "hang.info()\n",
    "\n",
    "hang.describe() # 把所有有关数字的信息做一个整理\n",
    "```\n",
    "\n",
    "```python\n",
    "# 保存到excel\n",
    "hang.to_excel(\"hang.xlsx\", sheet_name=\"weather\", index=False) # 转换成excel\n",
    "# 从excel读取\n",
    "hang = pd.read_excel(\"hang.xlsx\", sheet_name=\"weather\")\n",
    "hang \n",
    "```"
   ]
  },
  {
   "cell_type": "markdown",
   "metadata": {},
   "source": [
    "### 表格操作\n",
    "\n",
    "```python\n",
    "table['name'] # 选择一列\n",
    "type(table['name'])\n",
    "```\n",
    "\n",
    "\n",
    "```python\n",
    "reduce=hang[['time','T']] # 选取某一列\n",
    "reduce[reduce[\"T\"] > 35]\n",
    "reduce.iloc[9:14, 0:2] # 先选行，后选列\n",
    "reduce.loc[reduce[\"T\"] > 35, \"time\"]\n",
    "```\n",
    "\n",
    "\n",
    "```python\n",
    "df.mean()\n",
    "df.var()\n",
    "df.std()\n",
    "df.sum()\n",
    "```\n",
    "\n",
    "```python\n",
    "df.values()\n",
    "df.values().flatten()\n",
    "```\n"
   ]
  },
  {
   "cell_type": "markdown",
   "metadata": {},
   "source": [
    "### 表格合并\n",
    "- merge\n",
    "- concat\n",
    "\n",
    "```python\n",
    "pd.merge(sub3, sub4,\n",
    "        how='left', left_on='time', right_on='time')\n",
    "```\n",
    "\n",
    "```python\n",
    "pd.concat([sub1, sub2], axis=0)\n",
    "pd.concat([sub1, sub2], axis=1)\n",
    "```"
   ]
  },
  {
   "cell_type": "markdown",
   "metadata": {},
   "source": [
    "### 简单绘图\n",
    "\n",
    "```python\n",
    "hang['P'].plot()\n",
    "(hang['Tx']-hang['Tn']).plot.hist()\n",
    "```"
   ]
  },
  {
   "cell_type": "markdown",
   "metadata": {},
   "source": [
    "### 时间信息画图\n",
    "\n",
    "```\n",
    "reduce[\"time\"]=pd.to_datetime(reduce[\"time\"],dayfirst=True)\n",
    "reduce\n",
    "```\n",
    "\n",
    "```python\n",
    "reduce[\"month\"]=reduce['time'].dt.month\n",
    "reduce['year']=reduce['time'].dt.year\n",
    "reduce['hour']=reduce['time'].dt.hour\n",
    "```\n",
    "\n",
    "\n",
    "```python\n",
    "reduce.groupby([\"month\",\"year\"]).mean()\n",
    "```\n",
    "\n",
    "\n"
   ]
  },
  {
   "cell_type": "markdown",
   "metadata": {},
   "source": [
    "# matplotlib & seaborn"
   ]
  },
  {
   "cell_type": "markdown",
   "metadata": {},
   "source": [
    "[seaborn: statistical data visualization — seaborn 0.13.2 documentation](https://seaborn.pydata.org/)\n",
    "\n",
    "statistical data visualization\n",
    "Seaborn is a Python data visualization library based on matplotlib. It provides a high-level interface for drawing attractive and informative statistical graphics."
   ]
  },
  {
   "cell_type": "markdown",
   "metadata": {},
   "source": [
    "### 直方图"
   ]
  },
  {
   "cell_type": "code",
   "execution_count": 70,
   "metadata": {},
   "outputs": [
    {
     "name": "stdout",
     "output_type": "stream",
     "text": [
      "[[0.51262308 0.15526408 0.69694779 ... 0.32886083 0.73216535 0.74438328]\n",
      " [0.59541608 0.1324286  0.5233939  ... 0.05064991 0.6546384  0.73704593]]\n"
     ]
    },
    {
     "data": {
      "image/png": "[encoded data removed]",
      "text/plain": [
       "<Figure size 640x480 with 3 Axes>"
      ]
     },
     "metadata": {},
     "output_type": "display_data"
    }
   ],
   "source": [
    "# A和B约定见面，各自将迟到0-1小时。先来者等待15分钟后将离开。\n",
    "# A和B见到的概率多大？\n",
    "\n",
    "import numpy as np\n",
    "import collections\n",
    "import matplotlib.pyplot as plt\n",
    "import seaborn as sns\n",
    "\n",
    "ab = np.random.rand(2,10000)\n",
    "print(ab)\n",
    "\n",
    "f, axs = plt.subplots(1,3)\n",
    "\n",
    "sns.histplot(ab[0], stat='probability', ax=axs[0])\n",
    "axs[0].set_title(\"Distribution of A\")\n",
    "sns.histplot(ab[1], stat='probability', ax=axs[1])\n",
    "axs[1].set_title(\"Distribution of B\")\n",
    "sns.histplot(ab[0] - ab[1], stat='probability', ax=axs[2], color='yellow')\n",
    "axs[2].set_title(\"Distribution of Difference\")\n",
    "f.suptitle(\"Analysis of Meeting Probability for A and B\")\n",
    "plt.tight_layout()  # Adjust the spacing between subplots"
   ]
  },
  {
   "cell_type": "markdown",
   "metadata": {},
   "source": [
    "`discrete` 参数在 `sns.histplot` 函数中的作用是指定数据是否为离散型数据。设置 discrete=True 会使得直方图的每个条形对应一个离散值，而不是一个连续的区间"
   ]
  },
  {
   "cell_type": "markdown",
   "metadata": {},
   "source": [
    "### 概率分布"
   ]
  },
  {
   "cell_type": "code",
   "execution_count": 71,
   "metadata": {},
   "outputs": [
    {
     "data": {
      "image/png": "[encoded data removed]",
      "text/plain": [
       "<Figure size 640x480 with 1 Axes>"
      ]
     },
     "metadata": {},
     "output_type": "display_data"
    }
   ],
   "source": [
    "# 从分布的积分图形得到概率\n",
    "f, axs = plt.subplots(1)\n",
    "\n",
    "sns.ecdfplot(abs(ab[0]-ab[1]),ax=axs) # cumulative distribution function\n",
    "x_special = 0.25\n",
    "\n",
    "for line in axs.get_lines():\n",
    "    x,y = line.get_data()\n",
    "    ind = np.argwhere(x > x_special)[0,0]  # first index where x is larger than x_special\n",
    "    axs.text(x_special,y[ind], f' {y[ind]:.4f}', ha='left', va='top') # maybe color=line.get_color()\n",
    "axs.axvline(x_special, linestyle='--', color='#cfcfcf', lw=2, alpha=0.75)\n",
    "plt.title(\"Probability from Cumulative Distribution Function\")\n",
    "plt.show()"
   ]
  },
  {
   "cell_type": "markdown",
   "metadata": {},
   "source": [
    "# seaborn\n",
    "\n",
    "[seaborn常见绘图学习总结（分布图） - 简书](https://www.jianshu.com/p/4b6222a62947)\n",
    "\n",
    "[Seaborn常见绘图总结\\_seaborn 绘图总结 csdn-CSDN博客](https://blog.csdn.net/qq_40195360/article/details/86605860)"
   ]
  },
  {
   "cell_type": "markdown",
   "metadata": {},
   "source": [
    "## relational Plot | 关系图"
   ]
  },
  {
   "cell_type": "markdown",
   "metadata": {},
   "source": [
    "### Scatter Plot | 散点图\n",
    "\n"
   ]
  },
  {
   "cell_type": "markdown",
   "metadata": {},
   "source": [
    "### lineplot"
   ]
  },
  {
   "cell_type": "markdown",
   "metadata": {},
   "source": [
    "### jointplot\n",
    "\n",
    "- `x`,`y`：代表待分析的成对变量，有两种模式，第一种模式：在参数data传入数据框时，x、y均传入字符串，指代数据框中的变量名；第二种模式：在参数data为None时，x、y直接传入两个一维数组，不依赖数据框\n",
    "- `data`：与上一段中的说明相对应，代表数据框，默认为None\n",
    "- `kind`：字符型变量，用于控制展示成对变量相关情况的主图中的样式\n",
    "- `color`：控制图像中对象的色彩\n",
    "- `height`：控制图像为正方形时的边长\n",
    "- `ratio`：int型，调节联合图与边缘图的相对比例，越大则边缘图越矮，默认为5\n",
    "- `space`：int型，用于控制联合图与边缘图的空白大小\n",
    "- `xlim`,`ylim`：设置x轴与y轴显示范围\n",
    "- `joint_kws`,`marginal_kws`,`annot_kws`：传入参数字典来分别精细化控制每个组件\n",
    "\n",
    "\n",
    "[详解seaborn中的kdeplot、rugplot、distplot与jointplot\\_seaborn.kdeplot-CSDN博客](https://blog.csdn.net/sunghosts/article/details/109972183)\n",
    "\n",
    "[Seaborn系列(三)：分布统计绘图(distribution)\\_displot-CSDN博客](https://blog.csdn.net/hustlei/article/details/123091236)\n",
    "## distplot\n",
    "\n",
    "\n",
    "## kdeplot\n",
    "\n",
    "## rugplot\n"
   ]
  },
  {
   "cell_type": "markdown",
   "metadata": {},
   "source": [
    "# sklearn\n",
    "\n",
    "安装方法，注意名字不是sklearn\n",
    "\n",
    "```shell\n",
    "pip install scikit-learn\n",
    "```\n",
    "\n",
    "```shell title=\"安装statsmodels遇到问题\"\n",
    "pip install statsmodels -i https://pypi.tuna.tsinghua.edu.cn/simple/\n",
    "```\n",
    "[statsmodels · PyPI](https://pypi.org/project/statsmodels/#files)\n",
    "\n",
    "\n",
    "这个库执行需要翻墙，而且很容易连接不上"
   ]
  }
 ],
 "metadata": {
  "kernelspec": {
   "display_name": "notebook",
   "language": "python",
   "name": "python3"
  },
  "language_info": {
   "codemirror_mode": {
    "name": "ipython",
    "version": 3
   },
   "file_extension": ".py",
   "mimetype": "text/x-python",
   "name": "python",
   "nbconvert_exporter": "python",
   "pygments_lexer": "ipython3",
   "version": "3.10.18"
  }
 },
 "nbformat": 4,
 "nbformat_minor": 2
}
