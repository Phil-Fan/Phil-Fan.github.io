{
 "cells": [
  {
   "cell_type": "markdown",
   "metadata": {},
   "source": [
    "# 样本空间与概率\n"
   ]
  },
  {
   "cell_type": "markdown",
   "metadata": {},
   "source": []
  },
  {
   "cell_type": "code",
   "execution_count": null,
   "metadata": {},
   "outputs": [],
   "source": [
    "import math\n",
    "a = 1\n",
    "b = 2\n",
    "print(a+b)"
   ]
  },
  {
   "cell_type": "markdown",
   "metadata": {},
   "source": [
    "## 条件概率"
   ]
  },
  {
   "cell_type": "markdown",
   "metadata": {},
   "source": [
    "例：一个班有4个本科生和12个研究生，随机将他们分成4个4人组，每组分到一个本科生的概率多大？\n",
    "\n",
    "先建立数组，再打乱数组，再统计满足条件的概率。"
   ]
  },
  {
   "cell_type": "code",
   "execution_count": 8,
   "metadata": {},
   "outputs": [
    {
     "name": "stdout",
     "output_type": "stream",
     "text": [
      "0.1439\n"
     ]
    }
   ],
   "source": [
    "import random\n",
    "import numpy as np\n",
    "a=[1,0]\n",
    "s=[4,12]\n",
    "result=np.repeat(a,s)\n",
    "result.reshape(4,4)\n",
    "\n",
    "k=0;sample=10000\n",
    "for j in range(sample):\n",
    "    random.shuffle(result) #随机排列，改变result的值\n",
    "    result2d=result.reshape(4,4) #分为4组\n",
    "    k += np.prod([i.sum() for i in result2d]) #每组总和均为1时为真\n",
    "print (k/sample)"
   ]
  },
  {
   "cell_type": "markdown",
   "metadata": {},
   "source": [
    "## 全概率定理"
   ]
  },
  {
   "cell_type": "markdown",
   "metadata": {},
   "source": [
    "## 贝叶斯定理"
   ]
  },
  {
   "cell_type": "markdown",
   "metadata": {},
   "source": [
    "## 排列组合"
   ]
  },
  {
   "cell_type": "code",
   "execution_count": 11,
   "metadata": {},
   "outputs": [
    {
     "name": "stdout",
     "output_type": "stream",
     "text": [
      "5选 0 , 排列  1 , 组合  1\n",
      "5选 1 , 排列  5 , 组合  5\n",
      "5选 2 , 排列  20 , 组合  10\n",
      "5选 3 , 排列  60 , 组合  10\n",
      "5选 4 , 排列  120 , 组合  5\n"
     ]
    }
   ],
   "source": [
    "# 法一： math 库\n",
    "import math\n",
    "for k in range(5):\n",
    "    p0 = math.perm(5, k) # permutation 排列\n",
    "    p1 = math.comb(5, k) # combination 组合\n",
    "    print(\"5选\",k, \", 排列 \", p0, \", 组合 \", p1)"
   ]
  },
  {
   "cell_type": "markdown",
   "metadata": {},
   "source": []
  },
  {
   "cell_type": "code",
   "execution_count": 13,
   "metadata": {},
   "outputs": [
    {
     "name": "stdout",
     "output_type": "stream",
     "text": [
      "5选 0 , 排列  1 , 组合  1\n",
      "5选 1 , 排列  5 , 组合  5\n",
      "5选 2 , 排列  20 , 组合  10\n",
      "5选 3 , 排列  60 , 组合  10\n",
      "5选 4 , 排列  120 , 组合  5\n"
     ]
    }
   ],
   "source": [
    "# 法二： itertools 库\n",
    "import itertools\n",
    "for k in range(5):\n",
    "    p0 = len(list(itertools.permutations(range(5), k)))\n",
    "    p1 = len(list(itertools.combinations(range(5), k)))\n",
    "    print(\"5选\",k, \", 排列 \", p0, \", 组合 \", p1)"
   ]
  },
  {
   "cell_type": "code",
   "execution_count": 15,
   "metadata": {},
   "outputs": [
    {
     "name": "stdout",
     "output_type": "stream",
     "text": [
      "4.0\n"
     ]
    }
   ],
   "source": [
    "# 法3： scipy 库\n",
    "import scipy.special as sp\n",
    "print(sp.binom(4, 3)) # 5选2"
   ]
  }
 ],
 "metadata": {
  "kernelspec": {
   "display_name": "Python 3",
   "language": "python",
   "name": "python3"
  },
  "language_info": {
   "codemirror_mode": {
    "name": "ipython",
    "version": 3
   },
   "file_extension": ".py",
   "mimetype": "text/x-python",
   "name": "python",
   "nbconvert_exporter": "python",
   "pygments_lexer": "ipython3",
   "version": "3.8.9"
  }
 },
 "nbformat": 4,
 "nbformat_minor": 2
}
